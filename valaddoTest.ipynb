{
 "cells": [
  {
   "cell_type": "code",
   "execution_count": 2,
   "metadata": {},
   "outputs": [
    {
     "name": "stdout",
     "output_type": "stream",
     "text": [
      "220.51207476752208\n"
     ]
    }
   ],
   "source": [
    "# Vallado Exploration & Test\n",
    "# 2024-03-05\n",
    "import kepler, math\n",
    "\n",
    "M = 235.4\n",
    "e = 0.4\n",
    "M_rad = math.radians(M)\n",
    "actual = math.degrees(kepler.kep_eqtnE(M_rad, e))\n",
    "expected = 220.512074767522\n",
    "print(actual)"
   ]
  }
 ],
 "metadata": {
  "kernelspec": {
   "display_name": "kernel_jupy",
   "language": "python",
   "name": "kernel_jupy"
  },
  "language_info": {
   "codemirror_mode": {
    "name": "ipython",
    "version": 3
   },
   "file_extension": ".py",
   "mimetype": "text/x-python",
   "name": "python",
   "nbconvert_exporter": "python",
   "pygments_lexer": "ipython3",
   "version": "3.12.1"
  }
 },
 "nbformat": 4,
 "nbformat_minor": 2
}
